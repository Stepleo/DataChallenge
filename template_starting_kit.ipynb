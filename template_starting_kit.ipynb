{
 "cells": [
  {
   "cell_type": "markdown",
   "metadata": {},
   "source": [
    "<div style=\"text-align: center;\">\n",
    "    <a href=\"https://www.dataia.eu/\">\n",
    "        <img border=\"0\" src=\"https://github.com/ramp-kits/template-kit/raw/main/img/DATAIA-h.png\" width=\"90%\"></a>\n",
    "</div>\n",
    "\n",
    "# Template Kit for RAMP challenge\n",
    "\n",
    "<i> Thomas Moreau (Inria) </i>"
   ]
  },
  {
   "cell_type": "markdown",
   "metadata": {},
   "source": [
    "## Introduction\n",
    "\n",
    "Describe the challenge, in particular:\n",
    "\n",
    "- Where the data comes from?\n",
    "- What is the task this challenge aims to solve?\n",
    "- Why does it matter?"
   ]
  },
  {
   "cell_type": "markdown",
   "metadata": {},
   "source": [
    "# Exploratory data analysis\n",
    "\n",
    "The goal of this section is to show what's in the data, and how to play with it.\n",
    "This is the first set in any data science project, and here, you should give a sense of the data the participants will be working with.\n",
    "\n",
    "You can first load and describe the data, and then show some interesting properties of it."
   ]
  },
  {
   "cell_type": "code",
   "execution_count": 17,
   "metadata": {},
   "outputs": [
    {
     "name": "stdout",
     "output_type": "stream",
     "text": [
      "<xarray.Dataset> Size: 941kB\n",
      "Dimensions:      (lat: 26, lon: 50, time: 180, axis_nbounds: 2)\n",
      "Coordinates:\n",
      "  * lat          (lat) float64 208B 35.72 37.12 38.52 ... 67.94 69.34 70.74\n",
      "  * lon          (lon) float64 400B -23.91 -22.5 -21.09 ... 42.19 43.59 45.0\n",
      "  * time         (time) datetime64[ns] 1kB 2000-01-16T12:00:00 ... 2014-12-16...\n",
      "Dimensions without coordinates: axis_nbounds\n",
      "Data variables:\n",
      "    time_bounds  (time, axis_nbounds) datetime64[ns] 3kB ...\n",
      "    pr           (time, lat, lon) float32 936kB ...\n",
      "Attributes: (12/54)\n",
      "    name:                   /scratch/work/voldoire/outputs/CMIP6/DECK/CNRM-CM...\n",
      "    Conventions:            CF-1.7 CMIP-6.2\n",
      "    creation_date:          2018-06-20T08:40:01Z\n",
      "    description:            CMIP6 historical\n",
      "    title:                  CNRM-CM6-1 model output prepared for CMIP6 / CMIP...\n",
      "    activity_id:            CMIP\n",
      "    ...                     ...\n",
      "    xios_commit:            1442-shuffle\n",
      "    nemo_gelato_commit:     49095b3accd5d4c_6524fe19b00467a\n",
      "    arpege_minor_version:   6.3.2\n",
      "    tracking_id:            hdl:21.14100/7ccc3c02-cc1c-4d3d-9196-ea3ed7c2b19f\n",
      "    history:                Mon Jul 30 09:00:27 2018: ncatted -O -a tracking_...\n",
      "    NCO:                    \"4.5.5\"\n",
      "              lat       lon                time  axis_nbounds time_bounds  \\\n",
      "0       35.719532 -23.90625 2000-01-16 12:00:00             0  2000-01-01   \n",
      "1       35.719532 -23.90625 2000-01-16 12:00:00             1  2000-02-01   \n",
      "2       35.719532 -23.90625 2000-02-15 12:00:00             0  2000-02-01   \n",
      "3       35.719532 -23.90625 2000-02-15 12:00:00             1  2000-03-01   \n",
      "4       35.719532 -23.90625 2000-03-16 12:00:00             0  2000-03-01   \n",
      "...           ...       ...                 ...           ...         ...   \n",
      "467995  70.738059  45.00000 2014-10-16 12:00:00             1  2014-11-01   \n",
      "467996  70.738059  45.00000 2014-11-16 00:00:00             0  2014-11-01   \n",
      "467997  70.738059  45.00000 2014-11-16 00:00:00             1  2014-12-01   \n",
      "467998  70.738059  45.00000 2014-12-16 12:00:00             0  2014-12-01   \n",
      "467999  70.738059  45.00000 2014-12-16 12:00:00             1  2015-01-01   \n",
      "\n",
      "              pr  \n",
      "0       0.000029  \n",
      "1       0.000029  \n",
      "2       0.000042  \n",
      "3       0.000042  \n",
      "4       0.000023  \n",
      "...          ...  \n",
      "467995  0.000022  \n",
      "467996  0.000021  \n",
      "467997  0.000021  \n",
      "467998  0.000017  \n",
      "467999  0.000017  \n",
      "\n",
      "[468000 rows x 6 columns]\n"
     ]
    }
   ],
   "source": [
    "import xarray as xr\n",
    "import pandas as pd\n",
    "\n",
    "# Open the NetCDF file\n",
    "dataset = xr.open_dataset('/home/leo/Programmation/Python/DataCamp/template-kit/data/pr_Amon_CNRM-CM6-1_historical_r1i1p1f2_gr_20000116-20141216.nc')\n",
    "\n",
    "# Print the dataset information\n",
    "print(dataset)\n",
    "\n",
    "# Convert the dataset to a pandas DataFrame\n",
    "df = dataset.to_dataframe().reset_index()\n",
    "\n",
    "# Print the DataFrame\n",
    "print(df)"
   ]
  },
  {
   "cell_type": "code",
   "execution_count": 23,
   "metadata": {},
   "outputs": [
    {
     "data": {
      "text/html": [
       "<div>\n",
       "<style scoped>\n",
       "    .dataframe tbody tr th:only-of-type {\n",
       "        vertical-align: middle;\n",
       "    }\n",
       "\n",
       "    .dataframe tbody tr th {\n",
       "        vertical-align: top;\n",
       "    }\n",
       "\n",
       "    .dataframe thead th {\n",
       "        text-align: right;\n",
       "    }\n",
       "</style>\n",
       "<table border=\"1\" class=\"dataframe\">\n",
       "  <thead>\n",
       "    <tr style=\"text-align: right;\">\n",
       "      <th></th>\n",
       "      <th>lat</th>\n",
       "      <th>lon</th>\n",
       "      <th>time</th>\n",
       "      <th>axis_nbounds</th>\n",
       "      <th>time_bounds</th>\n",
       "      <th>pr</th>\n",
       "    </tr>\n",
       "  </thead>\n",
       "  <tbody>\n",
       "    <tr>\n",
       "      <th>0</th>\n",
       "      <td>35.719532</td>\n",
       "      <td>-23.90625</td>\n",
       "      <td>2000-01-16 12:00:00</td>\n",
       "      <td>0</td>\n",
       "      <td>2000-01-01</td>\n",
       "      <td>0.000029</td>\n",
       "    </tr>\n",
       "    <tr>\n",
       "      <th>1</th>\n",
       "      <td>35.719532</td>\n",
       "      <td>-23.90625</td>\n",
       "      <td>2000-01-16 12:00:00</td>\n",
       "      <td>1</td>\n",
       "      <td>2000-02-01</td>\n",
       "      <td>0.000029</td>\n",
       "    </tr>\n",
       "    <tr>\n",
       "      <th>2</th>\n",
       "      <td>35.719532</td>\n",
       "      <td>-23.90625</td>\n",
       "      <td>2000-02-15 12:00:00</td>\n",
       "      <td>0</td>\n",
       "      <td>2000-02-01</td>\n",
       "      <td>0.000042</td>\n",
       "    </tr>\n",
       "    <tr>\n",
       "      <th>3</th>\n",
       "      <td>35.719532</td>\n",
       "      <td>-23.90625</td>\n",
       "      <td>2000-02-15 12:00:00</td>\n",
       "      <td>1</td>\n",
       "      <td>2000-03-01</td>\n",
       "      <td>0.000042</td>\n",
       "    </tr>\n",
       "    <tr>\n",
       "      <th>4</th>\n",
       "      <td>35.719532</td>\n",
       "      <td>-23.90625</td>\n",
       "      <td>2000-03-16 12:00:00</td>\n",
       "      <td>0</td>\n",
       "      <td>2000-03-01</td>\n",
       "      <td>0.000023</td>\n",
       "    </tr>\n",
       "  </tbody>\n",
       "</table>\n",
       "</div>"
      ],
      "text/plain": [
       "         lat       lon                time  axis_nbounds time_bounds        pr\n",
       "0  35.719532 -23.90625 2000-01-16 12:00:00             0  2000-01-01  0.000029\n",
       "1  35.719532 -23.90625 2000-01-16 12:00:00             1  2000-02-01  0.000029\n",
       "2  35.719532 -23.90625 2000-02-15 12:00:00             0  2000-02-01  0.000042\n",
       "3  35.719532 -23.90625 2000-02-15 12:00:00             1  2000-03-01  0.000042\n",
       "4  35.719532 -23.90625 2000-03-16 12:00:00             0  2000-03-01  0.000023"
      ]
     },
     "execution_count": 23,
     "metadata": {},
     "output_type": "execute_result"
    }
   ],
   "source": [
    "df.head()"
   ]
  },
  {
   "cell_type": "code",
   "execution_count": 19,
   "metadata": {},
   "outputs": [
    {
     "name": "stdout",
     "output_type": "stream",
     "text": [
      "                                                     time_bounds        pr\n",
      "lat       lon       time                axis_nbounds                      \n",
      "35.719532 -23.90625 2000-01-16 12:00:00 0             2000-01-01  0.000029\n",
      "                                        1             2000-02-01  0.000029\n",
      "                    2000-02-15 12:00:00 0             2000-02-01  0.000042\n",
      "                                        1             2000-03-01  0.000042\n",
      "                    2000-03-16 12:00:00 0             2000-03-01  0.000023\n",
      "...                                                          ...       ...\n",
      "70.738059  45.00000 2014-10-16 12:00:00 1             2014-11-01  0.000022\n",
      "                    2014-11-16 00:00:00 0             2014-11-01  0.000021\n",
      "                                        1             2014-12-01  0.000021\n",
      "                    2014-12-16 12:00:00 0             2014-12-01  0.000017\n",
      "                                        1             2015-01-01  0.000017\n",
      "\n",
      "[468000 rows x 2 columns]\n",
      "              lat       lon                time  axis_nbounds time_bounds  \\\n",
      "0       35.719532 -23.90625 2000-01-16 12:00:00             0  2000-01-01   \n",
      "1       35.719532 -23.90625 2000-01-16 12:00:00             1  2000-02-01   \n",
      "2       35.719532 -23.90625 2000-02-15 12:00:00             0  2000-02-01   \n",
      "3       35.719532 -23.90625 2000-02-15 12:00:00             1  2000-03-01   \n",
      "4       35.719532 -23.90625 2000-03-16 12:00:00             0  2000-03-01   \n",
      "...           ...       ...                 ...           ...         ...   \n",
      "467995  70.738059  45.00000 2014-10-16 12:00:00             1  2014-11-01   \n",
      "467996  70.738059  45.00000 2014-11-16 00:00:00             0  2014-11-01   \n",
      "467997  70.738059  45.00000 2014-11-16 00:00:00             1  2014-12-01   \n",
      "467998  70.738059  45.00000 2014-12-16 12:00:00             0  2014-12-01   \n",
      "467999  70.738059  45.00000 2014-12-16 12:00:00             1  2015-01-01   \n",
      "\n",
      "              pr  \n",
      "0       0.000029  \n",
      "1       0.000029  \n",
      "2       0.000042  \n",
      "3       0.000042  \n",
      "4       0.000023  \n",
      "...          ...  \n",
      "467995  0.000022  \n",
      "467996  0.000021  \n",
      "467997  0.000021  \n",
      "467998  0.000017  \n",
      "467999  0.000017  \n",
      "\n",
      "[468000 rows x 6 columns]\n"
     ]
    }
   ],
   "source": [
    "import zipfile\n",
    "import xarray as xr\n",
    "import tempfile\n",
    "import os\n",
    "\n",
    "# Path to the ZIP file\n",
    "zip_path = 'data/historical_precipitation_cmip6.zip'\n",
    "\n",
    "with tempfile.NamedTemporaryFile(delete=False) as tmp_file:\n",
    "    # Open the ZIP file\n",
    "    with zipfile.ZipFile(zip_path, 'r') as z:\n",
    "        temp_file_path = tmp_file.name\n",
    "        # Extract only the .nc files inside the ZIP to the temporary directory\n",
    "        for file_info in z.infolist():\n",
    "            if file_info.filename.endswith('.nc'):\n",
    "                with z.open(file_info.filename) as f:\n",
    "                        tmp_file.write(f.read())\n",
    "\n",
    "    # Load the NetCDF files with xarray\n",
    "    dataset = xr.open_dataset(\n",
    "        os.path.join(temp_file_path),\n",
    "        engine='netcdf4',\n",
    "    ).to_dataframe()\n",
    "\n",
    "    # Print the dataset information\n",
    "    print(dataset)\n",
    "\n",
    "    # Convert the dataset to a pandas DataFrame\n",
    "    df = dataset.reset_index()\n",
    "\n",
    "    # Print the DataFrame\n",
    "    print(df)\n",
    "\n",
    "    os.remove(temp_file_path)"
   ]
  },
  {
   "cell_type": "code",
   "execution_count": 14,
   "metadata": {},
   "outputs": [
    {
     "data": {
      "text/plain": [
       "'/tmp/tmp_1ykbkzg'"
      ]
     },
     "execution_count": 14,
     "metadata": {},
     "output_type": "execute_result"
    }
   ],
   "source": [
    "tmp_dir"
   ]
  },
  {
   "cell_type": "code",
   "execution_count": null,
   "metadata": {},
   "outputs": [
    {
     "data": {
      "text/html": [
       "<div>\n",
       "<style scoped>\n",
       "    .dataframe tbody tr th:only-of-type {\n",
       "        vertical-align: middle;\n",
       "    }\n",
       "\n",
       "    .dataframe tbody tr th {\n",
       "        vertical-align: top;\n",
       "    }\n",
       "\n",
       "    .dataframe thead th {\n",
       "        text-align: right;\n",
       "    }\n",
       "</style>\n",
       "<table border=\"1\" class=\"dataframe\">\n",
       "  <thead>\n",
       "    <tr style=\"text-align: right;\">\n",
       "      <th></th>\n",
       "      <th></th>\n",
       "      <th></th>\n",
       "      <th>cwd</th>\n",
       "    </tr>\n",
       "    <tr>\n",
       "      <th>time</th>\n",
       "      <th>latitude</th>\n",
       "      <th>longitude</th>\n",
       "      <th></th>\n",
       "    </tr>\n",
       "  </thead>\n",
       "  <tbody>\n",
       "    <tr>\n",
       "      <th rowspan=\"5\" valign=\"top\">2000-01-31</th>\n",
       "      <th rowspan=\"5\" valign=\"top\">35.04986</th>\n",
       "      <th>-24.95014</th>\n",
       "      <td>NaN</td>\n",
       "    </tr>\n",
       "    <tr>\n",
       "      <th>-24.85014</th>\n",
       "      <td>NaN</td>\n",
       "    </tr>\n",
       "    <tr>\n",
       "      <th>-24.75014</th>\n",
       "      <td>NaN</td>\n",
       "    </tr>\n",
       "    <tr>\n",
       "      <th>-24.65014</th>\n",
       "      <td>NaN</td>\n",
       "    </tr>\n",
       "    <tr>\n",
       "      <th>-24.55014</th>\n",
       "      <td>NaN</td>\n",
       "    </tr>\n",
       "  </tbody>\n",
       "</table>\n",
       "</div>"
      ],
      "text/plain": [
       "                               cwd\n",
       "time       latitude longitude     \n",
       "2000-01-31 35.04986 -24.95014  NaN\n",
       "                    -24.85014  NaN\n",
       "                    -24.75014  NaN\n",
       "                    -24.65014  NaN\n",
       "                    -24.55014  NaN"
      ]
     },
     "execution_count": 10,
     "metadata": {},
     "output_type": "execute_result"
    }
   ],
   "source": [
    "df.columns = ['wet_days']\n",
    "df.head()"
   ]
  },
  {
   "cell_type": "code",
   "execution_count": 1,
   "metadata": {},
   "outputs": [],
   "source": [
    "%matplotlib inline\n",
    "import numpy as np\n",
    "import pandas as pd\n",
    "import matplotlib.pyplot as plt\n",
    "pd.set_option('display.max_columns', None)\n",
    "\n",
    "# Load the data\n",
    "\n",
    "import problem\n",
    "X_df, y = problem.get_train_data()"
   ]
  },
  {
   "cell_type": "markdown",
   "metadata": {},
   "source": [
    "# Challenge evaluation\n",
    "\n",
    "A particularly important point in a challenge is to describe how it is evaluated. This is the section where you should describe the metric that will be used to evaluate the participants' submissions, as well as your evaluation strategy, in particular if there is some complexity in the way the data should be split to ensure valid results."
   ]
  },
  {
   "cell_type": "markdown",
   "metadata": {},
   "source": [
    "# Submission format\n",
    "\n",
    "Here, you should describe the submission format. This is the format the participants should follow to submit their predictions on the RAMP plateform.\n",
    "\n",
    "This section also show how to use the `ramp-workflow` library to test the submission locally."
   ]
  },
  {
   "cell_type": "markdown",
   "metadata": {},
   "source": [
    "## The pipeline workflow\n",
    "\n",
    "The input data are stored in a dataframe. To go from a dataframe to a numpy array we will use a scikit-learn column transformer. The first example we will write will just consist in selecting a subset of columns we want to work with."
   ]
  },
  {
   "cell_type": "code",
   "execution_count": 2,
   "metadata": {},
   "outputs": [],
   "source": [
    "# %load submissions/starting_kit/estimator.py\n",
    "\n",
    "from sklearn.pipeline import make_pipeline\n",
    "from sklearn.preprocessing import StandardScaler\n",
    "from sklearn.linear_model import LogisticRegression\n",
    "\n",
    "\n",
    "def get_estimator():\n",
    "    pipe = make_pipeline(\n",
    "        StandardScaler(),\n",
    "        LogisticRegression()\n",
    "    )\n",
    "\n",
    "    return pipe\n"
   ]
  },
  {
   "cell_type": "markdown",
   "metadata": {},
   "source": [
    "## Testing using a scikit-learn pipeline"
   ]
  },
  {
   "cell_type": "code",
   "execution_count": null,
   "metadata": {},
   "outputs": [
    {
     "name": "stdout",
     "output_type": "stream",
     "text": [
      "[0.97222222 0.96527778 0.97212544 0.95121951 0.96167247]\n"
     ]
    }
   ],
   "source": [
    "from sklearn.model_selection import cross_val_score\n",
    "\n",
    "scores = cross_val_score(get_estimator(), X_df, y, cv=5, scoring='accuracy')\n",
    "print(scores)"
   ]
  },
  {
   "cell_type": "markdown",
   "metadata": {},
   "source": [
    "## Submission\n",
    "\n",
    "To submit your code, you can refer to the [online documentation](https://paris-saclay-cds.github.io/ramp-docs/ramp-workflow/stable/using_kits.html)."
   ]
  }
 ],
 "metadata": {
  "kernelspec": {
   "display_name": "datacamp",
   "language": "python",
   "name": "python3"
  },
  "language_info": {
   "codemirror_mode": {
    "name": "ipython",
    "version": 3
   },
   "file_extension": ".py",
   "mimetype": "text/x-python",
   "name": "python",
   "nbconvert_exporter": "python",
   "pygments_lexer": "ipython3",
   "version": "3.13.2"
  }
 },
 "nbformat": 4,
 "nbformat_minor": 1
}
